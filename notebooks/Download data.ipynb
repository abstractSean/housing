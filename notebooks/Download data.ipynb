{
 "cells": [
  {
   "cell_type": "code",
   "execution_count": 2,
   "metadata": {},
   "outputs": [],
   "source": [
    "import datetime\n",
    "import os\n",
    "\n",
    "from dateutil.relativedelta import relativedelta\n",
    "\n",
    "import camelot\n",
    "import dateparser\n",
    "import magic\n",
    "import pandas as pd\n",
    "import requests\n",
    "import tabula\n",
    "\n",
    "from bs4 import BeautifulSoup"
   ]
  },
  {
   "cell_type": "code",
   "execution_count": 3,
   "metadata": {},
   "outputs": [
    {
     "name": "stdout",
     "output_type": "stream",
     "text": [
      "/home/sean/Projects/housing/notebooks\r\n"
     ]
    }
   ],
   "source": [
    "!pwd"
   ]
  },
  {
   "cell_type": "code",
   "execution_count": 5,
   "metadata": {
    "scrolled": true
   },
   "outputs": [
    {
     "name": "stdout",
     "output_type": "stream",
     "text": [
      "RAENewsRelease2-Feb2019.pdf  RAENewsRelease-Jun2019.pdf\r\n",
      "RAENewsRelease-Apr2018.pdf   RAENewsRelease-June2018.pdf\r\n",
      "RAENewsRelease-Apr2019.pdf   RAENewsRelease-Mar2018.pdf\r\n",
      "RAENewsRelease-Aug2018.pdf   RAENewsRelease-Mar2019.pdf\r\n",
      "RAENewsRelease-Dec2018.pdf   RAENewsRelease-May2018.pdf\r\n",
      "RAENewsRelease-Feb2018.pdf   RAENewsRelease-May2019.pdf\r\n",
      "RAENewsRelease-Jan2018.pdf   RAENewsRelease-Nov2018.pdf\r\n",
      "RAENewsRelease-Jan2019.pdf   RAENewsRelease-Oct2018.pdf\r\n",
      "RAENewsRelease-July2018.pdf  RAENewsRelease-Sept2018.pdf\r\n"
     ]
    }
   ],
   "source": [
    "os.chdir('../data/raw')\n",
    "!ls"
   ]
  },
  {
   "cell_type": "code",
   "execution_count": 6,
   "metadata": {},
   "outputs": [],
   "source": [
    "link_page = \"https://realtorsofedmonton.com/web/RAE_Public/Market_Stats/Monthly%20Market%20Statistics/RAE_Public/Market_Statistics/Monthly_Market_Stats.aspx?hkey=ab27cbda-7c81-4393-8a5f-aaf1277eba97\"\n",
    "page = requests.get(link_page)\n",
    "soup = BeautifulSoup(page.content, 'html.parser')\n",
    "\n",
    "pdf_links = {link['href'] for link in soup.find_all('a')\n",
    "             if ('href' in link.attrs\n",
    "                 and 'RAE' in link['href']\n",
    "                 and 'pdf' == link['href'][-3:])\n",
    "            }"
   ]
  },
  {
   "cell_type": "code",
   "execution_count": 12,
   "metadata": {},
   "outputs": [
    {
     "name": "stdout",
     "output_type": "stream",
     "text": [
      "https://member.ereb.com/WEB/Documents/pdf/YEGmedia-RAEstatsMay2019.pdf\n"
     ]
    }
   ],
   "source": [
    "pdfs = !ls\n",
    "\n",
    "for pdf in pdf_links:\n",
    "    file = pdf.split('/')[-1]\n",
    "    if file not in pdfs:\n",
    "        print(pdf)\n",
    "        #run once: !wget $pdf ./"
   ]
  },
  {
   "cell_type": "code",
   "execution_count": null,
   "metadata": {},
   "outputs": [],
   "source": [
    "pdfs = !ls\n",
    "\n",
    "# fix errors \n",
    "\n",
    "for pdf in pdfs:\n",
    "    if 'HTML' in magic.from_file(pdf):\n",
    "        date = pdf.split('-')[1][:-4]\n",
    "        date_time = dateparser.parse(date)\n",
    "        date_time -= relativedelta(months=1)\n",
    "        date = date_time.strftime('%b%Y')\n",
    "        link = 'https://member.ereb.com/WEB/Documents/pdf/'\n",
    "        alt_format = f'YEGmedia-RAEstats{date}.pdf'\n",
    "        pdf_link = link + alt_format\n",
    "        print(alt_format)\n",
    "        \n",
    "        # wget alternative format\n",
    "        !wget $pdf_link -O ./$pdf\n",
    "\n",
    "    elif 'YEG' in pdf:\n",
    "        date = pdf.split('-')[1][:-4]\n",
    "        date = date.replace('RAEstats', '')\n",
    "        date_time = dateparser.parse(date)\n",
    "        date_time += relativedelta(months=1)\n",
    "        date = date_time.strftime('%b%Y')\n",
    "        alt_format = f'RAENewsRelease-{date}.pdf'\n",
    "        print(alt_format)\n",
    "\n",
    "        # rename file to match other formats\n",
    "        !mv $pdf $alt_format\n",
    " "
   ]
  }
 ],
 "metadata": {
  "kernelspec": {
   "display_name": "Python 3",
   "language": "python",
   "name": "python3"
  },
  "language_info": {
   "codemirror_mode": {
    "name": "ipython",
    "version": 3
   },
   "file_extension": ".py",
   "mimetype": "text/x-python",
   "name": "python",
   "nbconvert_exporter": "python",
   "pygments_lexer": "ipython3",
   "version": "3.7.3"
  }
 },
 "nbformat": 4,
 "nbformat_minor": 2
}
