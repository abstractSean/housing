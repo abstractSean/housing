{
 "cells": [
  {
   "cell_type": "code",
   "execution_count": 1,
   "metadata": {},
   "outputs": [],
   "source": [
    "import os\n",
    "\n",
    "import camelot\n",
    "import pandas as pd\n",
    "import tabula"
   ]
  },
  {
   "cell_type": "code",
   "execution_count": 2,
   "metadata": {},
   "outputs": [],
   "source": [
    "os.chdir('/home/sean/Downloads/')\n",
    "pdf = 'ClosingStatementBuyer.pdf'"
   ]
  },
  {
   "cell_type": "code",
   "execution_count": 11,
   "metadata": {},
   "outputs": [],
   "source": [
    "tables = camelot.read_pdf(pdf) #can only export as file\n",
    "#try reading in with csvreader?\n",
    "tables.export('ClosingStatementBuyer.csv')"
   ]
  },
  {
   "cell_type": "code",
   "execution_count": 13,
   "metadata": {},
   "outputs": [],
   "source": [
    "df2 = pd.read_csv('ClosingStatementBuyer-page-1-table-1.csv')"
   ]
  },
  {
   "cell_type": "code",
   "execution_count": 14,
   "metadata": {},
   "outputs": [
    {
     "data": {
      "text/html": [
       "<div>\n",
       "<style scoped>\n",
       "    .dataframe tbody tr th:only-of-type {\n",
       "        vertical-align: middle;\n",
       "    }\n",
       "\n",
       "    .dataframe tbody tr th {\n",
       "        vertical-align: top;\n",
       "    }\n",
       "\n",
       "    .dataframe thead th {\n",
       "        text-align: right;\n",
       "    }\n",
       "</style>\n",
       "<table border=\"1\" class=\"dataframe\">\n",
       "  <thead>\n",
       "    <tr style=\"text-align: right;\">\n",
       "      <th></th>\n",
       "      <th>Unnamed: 0</th>\n",
       "      <th>Unnamed: 1</th>\n",
       "      <th>Unnamed: 2</th>\n",
       "      <th>Unnamed: 3</th>\n",
       "    </tr>\n",
       "  </thead>\n",
       "  <tbody>\n",
       "    <tr>\n",
       "      <th>0</th>\n",
       "      <td>Description</td>\n",
       "      <td>Buyer</td>\n",
       "      <td>NaN</td>\n",
       "      <td>NaN</td>\n",
       "    </tr>\n",
       "    <tr>\n",
       "      <th>1</th>\n",
       "      <td>NaN</td>\n",
       "      <td>P.O.C.</td>\n",
       "      <td>Debit</td>\n",
       "      <td>Credit</td>\n",
       "    </tr>\n",
       "    <tr>\n",
       "      <th>2</th>\n",
       "      <td>Deposits, Credits, Debits</td>\n",
       "      <td>NaN</td>\n",
       "      <td>NaN</td>\n",
       "      <td>NaN</td>\n",
       "    </tr>\n",
       "    <tr>\n",
       "      <th>3</th>\n",
       "      <td>Sale Price of Property</td>\n",
       "      <td>NaN</td>\n",
       "      <td>$300,000.00</td>\n",
       "      <td>NaN</td>\n",
       "    </tr>\n",
       "    <tr>\n",
       "      <th>4</th>\n",
       "      <td>seller credits buyer</td>\n",
       "      <td>NaN</td>\n",
       "      <td>NaN</td>\n",
       "      <td>$4,354.97</td>\n",
       "    </tr>\n",
       "  </tbody>\n",
       "</table>\n",
       "</div>"
      ],
      "text/plain": [
       "                  Unnamed: 0 Unnamed: 1   Unnamed: 2 Unnamed: 3\n",
       "0                Description      Buyer          NaN        NaN\n",
       "1                        NaN     P.O.C.        Debit     Credit\n",
       "2  Deposits, Credits, Debits        NaN          NaN        NaN\n",
       "3     Sale Price of Property        NaN  $300,000.00        NaN\n",
       "4       seller credits buyer        NaN          NaN  $4,354.97"
      ]
     },
     "execution_count": 14,
     "metadata": {},
     "output_type": "execute_result"
    }
   ],
   "source": [
    "df2.head()"
   ]
  },
  {
   "cell_type": "code",
   "execution_count": 21,
   "metadata": {},
   "outputs": [
    {
     "data": {
      "text/html": [
       "<div>\n",
       "<style scoped>\n",
       "    .dataframe tbody tr th:only-of-type {\n",
       "        vertical-align: middle;\n",
       "    }\n",
       "\n",
       "    .dataframe tbody tr th {\n",
       "        vertical-align: top;\n",
       "    }\n",
       "\n",
       "    .dataframe thead th {\n",
       "        text-align: right;\n",
       "    }\n",
       "</style>\n",
       "<table border=\"1\" class=\"dataframe\">\n",
       "  <thead>\n",
       "    <tr style=\"text-align: right;\">\n",
       "      <th></th>\n",
       "      <th>Unnamed: 0</th>\n",
       "      <th>Description</th>\n",
       "      <th>Unnamed: 2</th>\n",
       "      <th>Buyer</th>\n",
       "      <th>Unnamed: 4</th>\n",
       "    </tr>\n",
       "  </thead>\n",
       "  <tbody>\n",
       "    <tr>\n",
       "      <th>0</th>\n",
       "      <td>NaN</td>\n",
       "      <td>NaN</td>\n",
       "      <td>P.O.C.</td>\n",
       "      <td>Debit</td>\n",
       "      <td>Credit</td>\n",
       "    </tr>\n",
       "    <tr>\n",
       "      <th>1</th>\n",
       "      <td>Deposits, Credits, Debits</td>\n",
       "      <td>NaN</td>\n",
       "      <td>NaN</td>\n",
       "      <td>NaN</td>\n",
       "      <td>NaN</td>\n",
       "    </tr>\n",
       "    <tr>\n",
       "      <th>2</th>\n",
       "      <td>Sale Price of Property</td>\n",
       "      <td>NaN</td>\n",
       "      <td>NaN</td>\n",
       "      <td>$300,000.00</td>\n",
       "      <td>NaN</td>\n",
       "    </tr>\n",
       "    <tr>\n",
       "      <th>3</th>\n",
       "      <td>seller credits buyer</td>\n",
       "      <td>NaN</td>\n",
       "      <td>NaN</td>\n",
       "      <td>NaN</td>\n",
       "      <td>$4,354.97</td>\n",
       "    </tr>\n",
       "    <tr>\n",
       "      <th>4</th>\n",
       "      <td>Deposit</td>\n",
       "      <td>NaN</td>\n",
       "      <td>NaN</td>\n",
       "      <td>NaN</td>\n",
       "      <td>$1,500.00</td>\n",
       "    </tr>\n",
       "  </tbody>\n",
       "</table>\n",
       "</div>"
      ],
      "text/plain": [
       "                  Unnamed: 0 Description Unnamed: 2        Buyer Unnamed: 4\n",
       "0                        NaN         NaN     P.O.C.        Debit     Credit\n",
       "1  Deposits, Credits, Debits         NaN        NaN          NaN        NaN\n",
       "2     Sale Price of Property         NaN        NaN  $300,000.00        NaN\n",
       "3       seller credits buyer         NaN        NaN          NaN  $4,354.97\n",
       "4                    Deposit         NaN        NaN          NaN  $1,500.00"
      ]
     },
     "execution_count": 21,
     "metadata": {},
     "output_type": "execute_result"
    }
   ],
   "source": [
    "df_original = tabula.read_pdf(pdf)\n",
    "df_original.head()"
   ]
  },
  {
   "cell_type": "code",
   "execution_count": 62,
   "metadata": {
    "scrolled": true
   },
   "outputs": [
    {
     "data": {
      "text/html": [
       "<div>\n",
       "<style scoped>\n",
       "    .dataframe tbody tr th:only-of-type {\n",
       "        vertical-align: middle;\n",
       "    }\n",
       "\n",
       "    .dataframe tbody tr th {\n",
       "        vertical-align: top;\n",
       "    }\n",
       "\n",
       "    .dataframe thead th {\n",
       "        text-align: right;\n",
       "    }\n",
       "</style>\n",
       "<table border=\"1\" class=\"dataframe\">\n",
       "  <thead>\n",
       "    <tr style=\"text-align: right;\">\n",
       "      <th></th>\n",
       "      <th>Description</th>\n",
       "      <th>Type</th>\n",
       "      <th>POC</th>\n",
       "      <th>Debit</th>\n",
       "      <th>Credit</th>\n",
       "    </tr>\n",
       "  </thead>\n",
       "  <tbody>\n",
       "    <tr>\n",
       "      <th>1</th>\n",
       "      <td>Deposits, Credits, Debits</td>\n",
       "      <td>NaN</td>\n",
       "      <td>NaN</td>\n",
       "      <td>NaN</td>\n",
       "      <td>NaN</td>\n",
       "    </tr>\n",
       "    <tr>\n",
       "      <th>2</th>\n",
       "      <td>Sale Price of Property</td>\n",
       "      <td>NaN</td>\n",
       "      <td>NaN</td>\n",
       "      <td>$300,000.00</td>\n",
       "      <td>NaN</td>\n",
       "    </tr>\n",
       "    <tr>\n",
       "      <th>3</th>\n",
       "      <td>seller credits buyer</td>\n",
       "      <td>NaN</td>\n",
       "      <td>NaN</td>\n",
       "      <td>NaN</td>\n",
       "      <td>$4,354.97</td>\n",
       "    </tr>\n",
       "    <tr>\n",
       "      <th>4</th>\n",
       "      <td>Deposit</td>\n",
       "      <td>NaN</td>\n",
       "      <td>NaN</td>\n",
       "      <td>NaN</td>\n",
       "      <td>$1,500.00</td>\n",
       "    </tr>\n",
       "    <tr>\n",
       "      <th>5</th>\n",
       "      <td>Lender Credit from Better Mortgage Corporation</td>\n",
       "      <td>NaN</td>\n",
       "      <td>NaN</td>\n",
       "      <td>NaN</td>\n",
       "      <td>$1,318.00</td>\n",
       "    </tr>\n",
       "  </tbody>\n",
       "</table>\n",
       "</div>"
      ],
      "text/plain": [
       "                                      Description Type  POC        Debit  \\\n",
       "1                       Deposits, Credits, Debits  NaN  NaN          NaN   \n",
       "2                          Sale Price of Property  NaN  NaN  $300,000.00   \n",
       "3                            seller credits buyer  NaN  NaN          NaN   \n",
       "4                                         Deposit  NaN  NaN          NaN   \n",
       "5  Lender Credit from Better Mortgage Corporation  NaN  NaN          NaN   \n",
       "\n",
       "      Credit  \n",
       "1        NaN  \n",
       "2        NaN  \n",
       "3  $4,354.97  \n",
       "4  $1,500.00  \n",
       "5  $1,318.00  "
      ]
     },
     "execution_count": 62,
     "metadata": {},
     "output_type": "execute_result"
    }
   ],
   "source": [
    "def fix_columns(df):\n",
    "    columns = ['Description', 'Type', 'POC', 'Debit', 'Credit']\n",
    "    df.columns = columns\n",
    "    return df.drop(0)\n",
    "\n",
    "    \n",
    "df = fix_columns(df_original)\n",
    "df.head()"
   ]
  },
  {
   "cell_type": "code",
   "execution_count": 63,
   "metadata": {},
   "outputs": [
    {
     "data": {
      "text/plain": [
       "['Deposits, Credits, Debits',\n",
       " 'Prorations',\n",
       " 'New Loans',\n",
       " 'Title Charges',\n",
       " 'Government Recording and Transfer Charges']"
      ]
     },
     "execution_count": 63,
     "metadata": {},
     "output_type": "execute_result"
    }
   ],
   "source": [
    "def get_headings(df):\n",
    "    new_rows = pd.DataFrame()\n",
    "    headings = []\n",
    "    for index, row in df.iterrows():\n",
    "        #print(row[1])\n",
    "        if (pd.isnull(row['POC']) and \n",
    "            pd.isnull(row['Debit']) and\n",
    "            pd.isnull(row['Credit'])):\n",
    "            #print(row[0])\n",
    "            headings.append(row[0])\n",
    "            \n",
    "    return headings\n",
    "\n",
    "headings = get_headings(df)\n",
    "headings.pop(4)\n",
    "headings.pop(4)\n",
    "headings"
   ]
  },
  {
   "cell_type": "code",
   "execution_count": 64,
   "metadata": {},
   "outputs": [],
   "source": [
    "def headings_as_type(df, headings):\n",
    "    new_rows = pd.DataFrame()\n",
    "    heading = 'blank'\n",
    "    for index, row in df.iterrows():\n",
    "        #print(row[1])\n",
    "        if row[0] in headings:\n",
    "            #print(row[0])\n",
    "            heading = row[0]\n",
    "        elif ('$' in str(row[2]) or\n",
    "              '$' in str(row[3]) or\n",
    "              '$' in str(row[4])):\n",
    "            row['Type'] = heading\n",
    "            new_rows = new_rows.append(row)\n",
    "            #print(row[0])\n",
    "    return new_rows\n",
    "\n",
    "df = headings_as_type(df, headings)\n",
    "df = df.set_index(df['Description']).drop('Description', axis=1)\n",
    "df = df.fillna(0.0)\n",
    "converted = df[df.columns[:3]].replace('[\\$,]', '', regex=True).astype(float)\n",
    "converted['Type'] = df['Type']\n",
    "df = converted"
   ]
  },
  {
   "cell_type": "code",
   "execution_count": 65,
   "metadata": {},
   "outputs": [],
   "source": [
    "df.loc['Subtotals', 'Type'] = 'Subtotals'\n",
    "df.loc['Due From Buyer', 'Type'] = 'Due From Buyer'\n",
    "df.loc['Totals', 'Type'] = 'Totals' "
   ]
  },
  {
   "cell_type": "code",
   "execution_count": 67,
   "metadata": {},
   "outputs": [
    {
     "data": {
      "text/html": [
       "<div>\n",
       "<style scoped>\n",
       "    .dataframe tbody tr th:only-of-type {\n",
       "        vertical-align: middle;\n",
       "    }\n",
       "\n",
       "    .dataframe tbody tr th {\n",
       "        vertical-align: top;\n",
       "    }\n",
       "\n",
       "    .dataframe thead th {\n",
       "        text-align: right;\n",
       "    }\n",
       "</style>\n",
       "<table border=\"1\" class=\"dataframe\">\n",
       "  <thead>\n",
       "    <tr style=\"text-align: right;\">\n",
       "      <th></th>\n",
       "      <th>Credit</th>\n",
       "      <th>Debit</th>\n",
       "      <th>POC</th>\n",
       "    </tr>\n",
       "    <tr>\n",
       "      <th>Type</th>\n",
       "      <th></th>\n",
       "      <th></th>\n",
       "      <th></th>\n",
       "    </tr>\n",
       "  </thead>\n",
       "  <tbody>\n",
       "    <tr>\n",
       "      <th>Deposits, Credits, Debits</th>\n",
       "      <td>7172.97</td>\n",
       "      <td>300000.00</td>\n",
       "      <td>0.0</td>\n",
       "    </tr>\n",
       "    <tr>\n",
       "      <th>Due From Buyer</th>\n",
       "      <td>7106.53</td>\n",
       "      <td>0.00</td>\n",
       "      <td>0.0</td>\n",
       "    </tr>\n",
       "    <tr>\n",
       "      <th>Government Recording and Transfer Charges</th>\n",
       "      <td>0.00</td>\n",
       "      <td>354.00</td>\n",
       "      <td>0.0</td>\n",
       "    </tr>\n",
       "    <tr>\n",
       "      <th>New Loans</th>\n",
       "      <td>291152.49</td>\n",
       "      <td>3317.59</td>\n",
       "      <td>550.0</td>\n",
       "    </tr>\n",
       "    <tr>\n",
       "      <th>Prorations</th>\n",
       "      <td>17.99</td>\n",
       "      <td>174.52</td>\n",
       "      <td>0.0</td>\n",
       "    </tr>\n",
       "    <tr>\n",
       "      <th>Subtotals</th>\n",
       "      <td>298343.45</td>\n",
       "      <td>305449.98</td>\n",
       "      <td>550.0</td>\n",
       "    </tr>\n",
       "    <tr>\n",
       "      <th>Title Charges</th>\n",
       "      <td>0.00</td>\n",
       "      <td>1603.87</td>\n",
       "      <td>0.0</td>\n",
       "    </tr>\n",
       "    <tr>\n",
       "      <th>Totals</th>\n",
       "      <td>305449.98</td>\n",
       "      <td>305449.98</td>\n",
       "      <td>550.0</td>\n",
       "    </tr>\n",
       "  </tbody>\n",
       "</table>\n",
       "</div>"
      ],
      "text/plain": [
       "                                              Credit      Debit    POC\n",
       "Type                                                                  \n",
       "Deposits, Credits, Debits                    7172.97  300000.00    0.0\n",
       "Due From Buyer                               7106.53       0.00    0.0\n",
       "Government Recording and Transfer Charges       0.00     354.00    0.0\n",
       "New Loans                                  291152.49    3317.59  550.0\n",
       "Prorations                                     17.99     174.52    0.0\n",
       "Subtotals                                  298343.45  305449.98  550.0\n",
       "Title Charges                                   0.00    1603.87    0.0\n",
       "Totals                                     305449.98  305449.98  550.0"
      ]
     },
     "execution_count": 67,
     "metadata": {},
     "output_type": "execute_result"
    }
   ],
   "source": [
    "groups = df.groupby('Type').sum()\n",
    "groups"
   ]
  },
  {
   "cell_type": "code",
   "execution_count": 68,
   "metadata": {},
   "outputs": [],
   "source": [
    "due = df.loc['Subtotals', 'Debit'] - df.loc['Subtotals', 'Credit'] "
   ]
  },
  {
   "cell_type": "code",
   "execution_count": 102,
   "metadata": {},
   "outputs": [
    {
     "data": {
      "text/plain": [
       "174.5199999999695"
      ]
     },
     "execution_count": 102,
     "metadata": {},
     "output_type": "execute_result"
    }
   ],
   "source": [
    "expected = 9000 - 1500 - 550 -17.99\n",
    "diff = due - expected\n",
    "diff"
   ]
  },
  {
   "cell_type": "code",
   "execution_count": 114,
   "metadata": {},
   "outputs": [
    {
     "data": {
      "text/plain": [
       "174.52"
      ]
     },
     "execution_count": 114,
     "metadata": {},
     "output_type": "execute_result"
    }
   ],
   "source": [
    "df.loc[df['Type'] == 'Prorations', 'Debit'].sum()"
   ]
  },
  {
   "cell_type": "code",
   "execution_count": 100,
   "metadata": {},
   "outputs": [
    {
     "data": {
      "text/plain": [
       "4354.97000000003"
      ]
     },
     "execution_count": 100,
     "metadata": {},
     "output_type": "execute_result"
    }
   ],
   "source": [
    "expected_credit = (groups.loc[['New Loans', 'Title Charges'], 'Debit'].sum()\n",
    "                   + groups.loc[['Government Recording and Transfer Charges'], 'Debit'].sum()\n",
    "                   - groups.loc[['New Loans', 'Title Charges'], 'Credit'].sum()\n",
    "                   + 291000\n",
    "                   - 1318 \n",
    "                   + 550\n",
    "                  )\n",
    "expected_credit"
   ]
  },
  {
   "cell_type": "code",
   "execution_count": 115,
   "metadata": {},
   "outputs": [
    {
     "data": {
      "text/plain": [
       "4354.97"
      ]
     },
     "execution_count": 115,
     "metadata": {},
     "output_type": "execute_result"
    }
   ],
   "source": [
    "df.loc['seller credits buyer', 'Credit']\n"
   ]
  },
  {
   "cell_type": "code",
   "execution_count": null,
   "metadata": {},
   "outputs": [],
   "source": []
  }
 ],
 "metadata": {
  "kernelspec": {
   "display_name": "Python 3",
   "language": "python",
   "name": "python3"
  },
  "language_info": {
   "codemirror_mode": {
    "name": "ipython",
    "version": 3
   },
   "file_extension": ".py",
   "mimetype": "text/x-python",
   "name": "python",
   "nbconvert_exporter": "python",
   "pygments_lexer": "ipython3",
   "version": "3.7.3"
  }
 },
 "nbformat": 4,
 "nbformat_minor": 2
}
